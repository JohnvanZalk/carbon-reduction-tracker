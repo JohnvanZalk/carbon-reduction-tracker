{
 "cells": [
  {
   "cell_type": "code",
   "execution_count": 1,
   "metadata": {},
   "outputs": [],
   "source": [
    "import pandas as pd\n",
    "from simple_salesforce import Salesforce\n",
    "import openpyxl\n",
    "from openpyxl.utils.dataframe import dataframe_to_rows\n",
    "import datetime\n",
    "from pytz import timezone\n",
    "import boto3\n",
    "from config import sf_username, sf_password, sf_security_token, aws_id, aws_secret"
   ]
  },
  {
   "cell_type": "markdown",
   "metadata": {},
   "source": [
    "## Load and clean up data"
   ]
  },
  {
   "cell_type": "code",
   "execution_count": 2,
   "metadata": {},
   "outputs": [],
   "source": [
    "# Authenticate to Salesforce\n",
    "sf = Salesforce(username=sf_username, password=sf_password, security_token=sf_security_token)"
   ]
  },
  {
   "cell_type": "code",
   "execution_count": 3,
   "metadata": {},
   "outputs": [
    {
     "data": {
      "text/html": [
       "<div>\n",
       "<style scoped>\n",
       "    .dataframe tbody tr th:only-of-type {\n",
       "        vertical-align: middle;\n",
       "    }\n",
       "\n",
       "    .dataframe tbody tr th {\n",
       "        vertical-align: top;\n",
       "    }\n",
       "\n",
       "    .dataframe thead th {\n",
       "        text-align: right;\n",
       "    }\n",
       "</style>\n",
       "<table border=\"1\" class=\"dataframe\">\n",
       "  <thead>\n",
       "    <tr style=\"text-align: right;\">\n",
       "      <th></th>\n",
       "      <th>CRT_Name__c</th>\n",
       "      <th>CRT_Utility_Type__c</th>\n",
       "      <th>CRT_States__c</th>\n",
       "      <th>CRT_Final_Target_Text__c</th>\n",
       "      <th>CRT_Final_Target_Year__c</th>\n",
       "      <th>CRT_Interim_Targets_Summary__c</th>\n",
       "      <th>CRT_Mandatory_Voluntary__c</th>\n",
       "    </tr>\n",
       "  </thead>\n",
       "  <tbody>\n",
       "    <tr>\n",
       "      <th>0</th>\n",
       "      <td>Minnesota Power</td>\n",
       "      <td>Investor-Owned</td>\n",
       "      <td>MN</td>\n",
       "      <td>100% carbon-free energy by 2050</td>\n",
       "      <td>2050-01-01</td>\n",
       "      <td>50% reduction in carbon emissions by 2020; 80%...</td>\n",
       "      <td>Voluntary</td>\n",
       "    </tr>\n",
       "    <tr>\n",
       "      <th>1</th>\n",
       "      <td>Town of North Attleborough - (MA)</td>\n",
       "      <td>Public Power</td>\n",
       "      <td>MA</td>\n",
       "      <td>Net-zero GHG emissions by 2050</td>\n",
       "      <td>2050-01-01</td>\n",
       "      <td>N/A</td>\n",
       "      <td>Mandatory</td>\n",
       "    </tr>\n",
       "    <tr>\n",
       "      <th>2</th>\n",
       "      <td>Modesto Irrigation District</td>\n",
       "      <td>Public Power</td>\n",
       "      <td>CA</td>\n",
       "      <td>100% renewable energy and zero-carbon resource...</td>\n",
       "      <td>2045-01-01</td>\n",
       "      <td>N/A</td>\n",
       "      <td>Mandatory</td>\n",
       "    </tr>\n",
       "    <tr>\n",
       "      <th>3</th>\n",
       "      <td>New York State Electric &amp; Gas</td>\n",
       "      <td>Investor-Owned</td>\n",
       "      <td>NY</td>\n",
       "      <td>Zero GHG emissions by 2040</td>\n",
       "      <td>2040-01-01</td>\n",
       "      <td>N/A</td>\n",
       "      <td>Mandatory</td>\n",
       "    </tr>\n",
       "    <tr>\n",
       "      <th>4</th>\n",
       "      <td>Public Service Company of New Mexico</td>\n",
       "      <td>Investor-Owned</td>\n",
       "      <td>NM</td>\n",
       "      <td>100% emissions-free generation by 2040 (Volunt...</td>\n",
       "      <td>2040-01-01</td>\n",
       "      <td>N/A</td>\n",
       "      <td>Both</td>\n",
       "    </tr>\n",
       "  </tbody>\n",
       "</table>\n",
       "</div>"
      ],
      "text/plain": [
       "                            CRT_Name__c CRT_Utility_Type__c CRT_States__c  \\\n",
       "0                       Minnesota Power      Investor-Owned            MN   \n",
       "1     Town of North Attleborough - (MA)        Public Power            MA   \n",
       "2           Modesto Irrigation District        Public Power            CA   \n",
       "3         New York State Electric & Gas      Investor-Owned            NY   \n",
       "4  Public Service Company of New Mexico      Investor-Owned            NM   \n",
       "\n",
       "                            CRT_Final_Target_Text__c CRT_Final_Target_Year__c  \\\n",
       "0                    100% carbon-free energy by 2050               2050-01-01   \n",
       "1                     Net-zero GHG emissions by 2050               2050-01-01   \n",
       "2  100% renewable energy and zero-carbon resource...               2045-01-01   \n",
       "3                         Zero GHG emissions by 2040               2040-01-01   \n",
       "4  100% emissions-free generation by 2040 (Volunt...               2040-01-01   \n",
       "\n",
       "                      CRT_Interim_Targets_Summary__c  \\\n",
       "0  50% reduction in carbon emissions by 2020; 80%...   \n",
       "1                                                N/A   \n",
       "2                                                N/A   \n",
       "3                                                N/A   \n",
       "4                                                N/A   \n",
       "\n",
       "  CRT_Mandatory_Voluntary__c  \n",
       "0                  Voluntary  \n",
       "1                  Mandatory  \n",
       "2                  Mandatory  \n",
       "3                  Mandatory  \n",
       "4                       Both  "
      ]
     },
     "execution_count": 3,
     "metadata": {},
     "output_type": "execute_result"
    }
   ],
   "source": [
    "# Pull Salesforce accounts with carbon reduction targets\n",
    "crts = pd.DataFrame(sf.query_all(\"SELECT CRT_Name__c,CRT_Utility_Type__c,CRT_States__c,CRT_Final_Target_Text__c,CRT_Final_Target_Year__c,CRT_Interim_Targets_Summary__c,CRT_Mandatory_Voluntary__c FROM Account WHERE CRT_Final_Target_Text__c !=''\")['records'])\n",
    "del crts['attributes']\n",
    "crts.head()"
   ]
  },
  {
   "cell_type": "code",
   "execution_count": 4,
   "metadata": {},
   "outputs": [
    {
     "data": {
      "text/plain": [
       "370"
      ]
     },
     "execution_count": 4,
     "metadata": {},
     "output_type": "execute_result"
    }
   ],
   "source": [
    "# Check length of df\n",
    "len(crts)"
   ]
  },
  {
   "cell_type": "code",
   "execution_count": 5,
   "metadata": {},
   "outputs": [
    {
     "data": {
      "text/html": [
       "<div>\n",
       "<style scoped>\n",
       "    .dataframe tbody tr th:only-of-type {\n",
       "        vertical-align: middle;\n",
       "    }\n",
       "\n",
       "    .dataframe tbody tr th {\n",
       "        vertical-align: top;\n",
       "    }\n",
       "\n",
       "    .dataframe thead th {\n",
       "        text-align: right;\n",
       "    }\n",
       "</style>\n",
       "<table border=\"1\" class=\"dataframe\">\n",
       "  <thead>\n",
       "    <tr style=\"text-align: right;\">\n",
       "      <th></th>\n",
       "      <th>Utility/Entity</th>\n",
       "      <th>Utility/Entity Type</th>\n",
       "      <th>State(s)*</th>\n",
       "      <th>Final Target Summary</th>\n",
       "      <th>Attainment Year</th>\n",
       "      <th>Interim Target(s) Summary</th>\n",
       "      <th>Mand/Vol</th>\n",
       "    </tr>\n",
       "  </thead>\n",
       "  <tbody>\n",
       "    <tr>\n",
       "      <th>0</th>\n",
       "      <td>Minnesota Power</td>\n",
       "      <td>Investor-Owned</td>\n",
       "      <td>MN</td>\n",
       "      <td>100% carbon-free energy by 2050</td>\n",
       "      <td>2050-01-01</td>\n",
       "      <td>50% reduction in carbon emissions by 2020; 80%...</td>\n",
       "      <td>Voluntary</td>\n",
       "    </tr>\n",
       "    <tr>\n",
       "      <th>1</th>\n",
       "      <td>Town of North Attleborough - (MA)</td>\n",
       "      <td>Public Power</td>\n",
       "      <td>MA</td>\n",
       "      <td>Net-zero GHG emissions by 2050</td>\n",
       "      <td>2050-01-01</td>\n",
       "      <td>N/A</td>\n",
       "      <td>Mandatory</td>\n",
       "    </tr>\n",
       "    <tr>\n",
       "      <th>2</th>\n",
       "      <td>Modesto Irrigation District</td>\n",
       "      <td>Public Power</td>\n",
       "      <td>CA</td>\n",
       "      <td>100% renewable energy and zero-carbon resource...</td>\n",
       "      <td>2045-01-01</td>\n",
       "      <td>N/A</td>\n",
       "      <td>Mandatory</td>\n",
       "    </tr>\n",
       "    <tr>\n",
       "      <th>3</th>\n",
       "      <td>New York State Electric &amp; Gas</td>\n",
       "      <td>Investor-Owned</td>\n",
       "      <td>NY</td>\n",
       "      <td>Zero GHG emissions by 2040</td>\n",
       "      <td>2040-01-01</td>\n",
       "      <td>N/A</td>\n",
       "      <td>Mandatory</td>\n",
       "    </tr>\n",
       "    <tr>\n",
       "      <th>4</th>\n",
       "      <td>Public Service Company of New Mexico</td>\n",
       "      <td>Investor-Owned</td>\n",
       "      <td>NM</td>\n",
       "      <td>100% emissions-free generation by 2040 (Volunt...</td>\n",
       "      <td>2040-01-01</td>\n",
       "      <td>N/A</td>\n",
       "      <td>Both</td>\n",
       "    </tr>\n",
       "  </tbody>\n",
       "</table>\n",
       "</div>"
      ],
      "text/plain": [
       "                         Utility/Entity Utility/Entity Type State(s)*  \\\n",
       "0                       Minnesota Power      Investor-Owned        MN   \n",
       "1     Town of North Attleborough - (MA)        Public Power        MA   \n",
       "2           Modesto Irrigation District        Public Power        CA   \n",
       "3         New York State Electric & Gas      Investor-Owned        NY   \n",
       "4  Public Service Company of New Mexico      Investor-Owned        NM   \n",
       "\n",
       "                                Final Target Summary Attainment Year  \\\n",
       "0                    100% carbon-free energy by 2050      2050-01-01   \n",
       "1                     Net-zero GHG emissions by 2050      2050-01-01   \n",
       "2  100% renewable energy and zero-carbon resource...      2045-01-01   \n",
       "3                         Zero GHG emissions by 2040      2040-01-01   \n",
       "4  100% emissions-free generation by 2040 (Volunt...      2040-01-01   \n",
       "\n",
       "                           Interim Target(s) Summary   Mand/Vol  \n",
       "0  50% reduction in carbon emissions by 2020; 80%...  Voluntary  \n",
       "1                                                N/A  Mandatory  \n",
       "2                                                N/A  Mandatory  \n",
       "3                                                N/A  Mandatory  \n",
       "4                                                N/A       Both  "
      ]
     },
     "execution_count": 5,
     "metadata": {},
     "output_type": "execute_result"
    }
   ],
   "source": [
    "# Rename columns\n",
    "crts.columns = [\"Utility/Entity\", \"Utility/Entity Type\",\"State(s)*\",\"Final Target Summary\", \"Attainment Year\",\"Interim Target(s) Summary\",\"Mand/Vol\"]\n",
    "crts.head()"
   ]
  },
  {
   "cell_type": "code",
   "execution_count": 6,
   "metadata": {},
   "outputs": [
    {
     "data": {
      "text/html": [
       "<div>\n",
       "<style scoped>\n",
       "    .dataframe tbody tr th:only-of-type {\n",
       "        vertical-align: middle;\n",
       "    }\n",
       "\n",
       "    .dataframe tbody tr th {\n",
       "        vertical-align: top;\n",
       "    }\n",
       "\n",
       "    .dataframe thead th {\n",
       "        text-align: right;\n",
       "    }\n",
       "</style>\n",
       "<table border=\"1\" class=\"dataframe\">\n",
       "  <thead>\n",
       "    <tr style=\"text-align: right;\">\n",
       "      <th></th>\n",
       "      <th>Utility/Entity</th>\n",
       "      <th>Utility/Entity Type</th>\n",
       "      <th>State(s)*</th>\n",
       "      <th>Final Target Summary</th>\n",
       "      <th>Attainment Year</th>\n",
       "      <th>Interim Target(s) Summary</th>\n",
       "      <th>Mand/Vol</th>\n",
       "    </tr>\n",
       "  </thead>\n",
       "  <tbody>\n",
       "    <tr>\n",
       "      <th>0</th>\n",
       "      <td>Minnesota Power</td>\n",
       "      <td>Investor-Owned</td>\n",
       "      <td>MN</td>\n",
       "      <td>100% carbon-free energy by 2050</td>\n",
       "      <td>2050-01-01</td>\n",
       "      <td>50% reduction in carbon emissions by 2020; 80%...</td>\n",
       "      <td>Voluntary</td>\n",
       "    </tr>\n",
       "    <tr>\n",
       "      <th>1</th>\n",
       "      <td>Town of North Attleborough - (MA)</td>\n",
       "      <td>Public Power</td>\n",
       "      <td>MA</td>\n",
       "      <td>Net-zero GHG emissions by 2050</td>\n",
       "      <td>2050-01-01</td>\n",
       "      <td>--</td>\n",
       "      <td>Mandatory</td>\n",
       "    </tr>\n",
       "    <tr>\n",
       "      <th>2</th>\n",
       "      <td>Modesto Irrigation District</td>\n",
       "      <td>Public Power</td>\n",
       "      <td>CA</td>\n",
       "      <td>100% renewable energy and zero-carbon resource...</td>\n",
       "      <td>2045-01-01</td>\n",
       "      <td>--</td>\n",
       "      <td>Mandatory</td>\n",
       "    </tr>\n",
       "    <tr>\n",
       "      <th>3</th>\n",
       "      <td>New York State Electric &amp; Gas</td>\n",
       "      <td>Investor-Owned</td>\n",
       "      <td>NY</td>\n",
       "      <td>Zero GHG emissions by 2040</td>\n",
       "      <td>2040-01-01</td>\n",
       "      <td>--</td>\n",
       "      <td>Mandatory</td>\n",
       "    </tr>\n",
       "    <tr>\n",
       "      <th>4</th>\n",
       "      <td>Public Service Company of New Mexico</td>\n",
       "      <td>Investor-Owned</td>\n",
       "      <td>NM</td>\n",
       "      <td>100% emissions-free generation by 2040 (Volunt...</td>\n",
       "      <td>2040-01-01</td>\n",
       "      <td>N/A</td>\n",
       "      <td>Both</td>\n",
       "    </tr>\n",
       "  </tbody>\n",
       "</table>\n",
       "</div>"
      ],
      "text/plain": [
       "                         Utility/Entity Utility/Entity Type State(s)*  \\\n",
       "0                       Minnesota Power      Investor-Owned        MN   \n",
       "1     Town of North Attleborough - (MA)        Public Power        MA   \n",
       "2           Modesto Irrigation District        Public Power        CA   \n",
       "3         New York State Electric & Gas      Investor-Owned        NY   \n",
       "4  Public Service Company of New Mexico      Investor-Owned        NM   \n",
       "\n",
       "                                Final Target Summary Attainment Year  \\\n",
       "0                    100% carbon-free energy by 2050      2050-01-01   \n",
       "1                     Net-zero GHG emissions by 2050      2050-01-01   \n",
       "2  100% renewable energy and zero-carbon resource...      2045-01-01   \n",
       "3                         Zero GHG emissions by 2040      2040-01-01   \n",
       "4  100% emissions-free generation by 2040 (Volunt...      2040-01-01   \n",
       "\n",
       "                           Interim Target(s) Summary   Mand/Vol  \n",
       "0  50% reduction in carbon emissions by 2020; 80%...  Voluntary  \n",
       "1                                                 --  Mandatory  \n",
       "2                                                 --  Mandatory  \n",
       "3                                                 --  Mandatory  \n",
       "4                                                N/A       Both  "
      ]
     },
     "execution_count": 6,
     "metadata": {},
     "output_type": "execute_result"
    }
   ],
   "source": [
    "# Change interim target na values\n",
    "crts.loc[(crts['Interim Target(s) Summary']=='N/A')&(crts['Mand/Vol']=='Mandatory'), 'Interim Target(s) Summary'] = '--'\n",
    "crts.head()"
   ]
  },
  {
   "cell_type": "code",
   "execution_count": 7,
   "metadata": {},
   "outputs": [
    {
     "data": {
      "text/html": [
       "<div>\n",
       "<style scoped>\n",
       "    .dataframe tbody tr th:only-of-type {\n",
       "        vertical-align: middle;\n",
       "    }\n",
       "\n",
       "    .dataframe tbody tr th {\n",
       "        vertical-align: top;\n",
       "    }\n",
       "\n",
       "    .dataframe thead th {\n",
       "        text-align: right;\n",
       "    }\n",
       "</style>\n",
       "<table border=\"1\" class=\"dataframe\">\n",
       "  <thead>\n",
       "    <tr style=\"text-align: right;\">\n",
       "      <th></th>\n",
       "      <th>Utility/Entity</th>\n",
       "      <th>Utility/Entity Type</th>\n",
       "      <th>State(s)*</th>\n",
       "      <th>Final Target Summary</th>\n",
       "      <th>Attainment Year</th>\n",
       "      <th>Interim Target(s) Summary</th>\n",
       "    </tr>\n",
       "  </thead>\n",
       "  <tbody>\n",
       "    <tr>\n",
       "      <th>0</th>\n",
       "      <td>Minnesota Power</td>\n",
       "      <td>Investor-Owned</td>\n",
       "      <td>MN</td>\n",
       "      <td>100% carbon-free energy by 2050</td>\n",
       "      <td>2050-01-01</td>\n",
       "      <td>50% reduction in carbon emissions by 2020; 80%...</td>\n",
       "    </tr>\n",
       "    <tr>\n",
       "      <th>1</th>\n",
       "      <td>Town of North Attleborough - (MA)</td>\n",
       "      <td>Public Power</td>\n",
       "      <td>MA</td>\n",
       "      <td>Net-zero GHG emissions by 2050</td>\n",
       "      <td>2050-01-01</td>\n",
       "      <td>--</td>\n",
       "    </tr>\n",
       "    <tr>\n",
       "      <th>2</th>\n",
       "      <td>Modesto Irrigation District</td>\n",
       "      <td>Public Power</td>\n",
       "      <td>CA</td>\n",
       "      <td>100% renewable energy and zero-carbon resource...</td>\n",
       "      <td>2045-01-01</td>\n",
       "      <td>--</td>\n",
       "    </tr>\n",
       "    <tr>\n",
       "      <th>3</th>\n",
       "      <td>New York State Electric &amp; Gas</td>\n",
       "      <td>Investor-Owned</td>\n",
       "      <td>NY</td>\n",
       "      <td>Zero GHG emissions by 2040</td>\n",
       "      <td>2040-01-01</td>\n",
       "      <td>--</td>\n",
       "    </tr>\n",
       "    <tr>\n",
       "      <th>4</th>\n",
       "      <td>Public Service Company of New Mexico</td>\n",
       "      <td>Investor-Owned</td>\n",
       "      <td>NM</td>\n",
       "      <td>100% emissions-free generation by 2040 (Volunt...</td>\n",
       "      <td>2040-01-01</td>\n",
       "      <td>N/A</td>\n",
       "    </tr>\n",
       "  </tbody>\n",
       "</table>\n",
       "</div>"
      ],
      "text/plain": [
       "                         Utility/Entity Utility/Entity Type State(s)*  \\\n",
       "0                       Minnesota Power      Investor-Owned        MN   \n",
       "1     Town of North Attleborough - (MA)        Public Power        MA   \n",
       "2           Modesto Irrigation District        Public Power        CA   \n",
       "3         New York State Electric & Gas      Investor-Owned        NY   \n",
       "4  Public Service Company of New Mexico      Investor-Owned        NM   \n",
       "\n",
       "                                Final Target Summary Attainment Year  \\\n",
       "0                    100% carbon-free energy by 2050      2050-01-01   \n",
       "1                     Net-zero GHG emissions by 2050      2050-01-01   \n",
       "2  100% renewable energy and zero-carbon resource...      2045-01-01   \n",
       "3                         Zero GHG emissions by 2040      2040-01-01   \n",
       "4  100% emissions-free generation by 2040 (Volunt...      2040-01-01   \n",
       "\n",
       "                           Interim Target(s) Summary  \n",
       "0  50% reduction in carbon emissions by 2020; 80%...  \n",
       "1                                                 --  \n",
       "2                                                 --  \n",
       "3                                                 --  \n",
       "4                                                N/A  "
      ]
     },
     "execution_count": 7,
     "metadata": {},
     "output_type": "execute_result"
    }
   ],
   "source": [
    "# Drop column\n",
    "crts.drop('Mand/Vol',axis=1,inplace=True)\n",
    "crts.head()"
   ]
  },
  {
   "cell_type": "code",
   "execution_count": 8,
   "metadata": {},
   "outputs": [
    {
     "data": {
      "text/html": [
       "<div>\n",
       "<style scoped>\n",
       "    .dataframe tbody tr th:only-of-type {\n",
       "        vertical-align: middle;\n",
       "    }\n",
       "\n",
       "    .dataframe tbody tr th {\n",
       "        vertical-align: top;\n",
       "    }\n",
       "\n",
       "    .dataframe thead th {\n",
       "        text-align: right;\n",
       "    }\n",
       "</style>\n",
       "<table border=\"1\" class=\"dataframe\">\n",
       "  <thead>\n",
       "    <tr style=\"text-align: right;\">\n",
       "      <th></th>\n",
       "      <th>Utility/Entity</th>\n",
       "      <th>Utility/Entity Type</th>\n",
       "      <th>State(s)*</th>\n",
       "      <th>Final Target Summary</th>\n",
       "      <th>Attainment Year</th>\n",
       "      <th>Interim Target(s) Summary</th>\n",
       "    </tr>\n",
       "  </thead>\n",
       "  <tbody>\n",
       "    <tr>\n",
       "      <th>0</th>\n",
       "      <td>Minnesota Power</td>\n",
       "      <td>Investor-Owned</td>\n",
       "      <td>MN</td>\n",
       "      <td>100% carbon-free energy by 2050</td>\n",
       "      <td>2050</td>\n",
       "      <td>50% reduction in carbon emissions by 2020; 80%...</td>\n",
       "    </tr>\n",
       "    <tr>\n",
       "      <th>1</th>\n",
       "      <td>Town of North Attleborough - (MA)</td>\n",
       "      <td>Public Power</td>\n",
       "      <td>MA</td>\n",
       "      <td>Net-zero GHG emissions by 2050</td>\n",
       "      <td>2050</td>\n",
       "      <td>--</td>\n",
       "    </tr>\n",
       "    <tr>\n",
       "      <th>2</th>\n",
       "      <td>Modesto Irrigation District</td>\n",
       "      <td>Public Power</td>\n",
       "      <td>CA</td>\n",
       "      <td>100% renewable energy and zero-carbon resource...</td>\n",
       "      <td>2045</td>\n",
       "      <td>--</td>\n",
       "    </tr>\n",
       "    <tr>\n",
       "      <th>3</th>\n",
       "      <td>New York State Electric &amp; Gas</td>\n",
       "      <td>Investor-Owned</td>\n",
       "      <td>NY</td>\n",
       "      <td>Zero GHG emissions by 2040</td>\n",
       "      <td>2040</td>\n",
       "      <td>--</td>\n",
       "    </tr>\n",
       "    <tr>\n",
       "      <th>4</th>\n",
       "      <td>Public Service Company of New Mexico</td>\n",
       "      <td>Investor-Owned</td>\n",
       "      <td>NM</td>\n",
       "      <td>100% emissions-free generation by 2040 (Volunt...</td>\n",
       "      <td>2040</td>\n",
       "      <td>N/A</td>\n",
       "    </tr>\n",
       "  </tbody>\n",
       "</table>\n",
       "</div>"
      ],
      "text/plain": [
       "                         Utility/Entity Utility/Entity Type State(s)*  \\\n",
       "0                       Minnesota Power      Investor-Owned        MN   \n",
       "1     Town of North Attleborough - (MA)        Public Power        MA   \n",
       "2           Modesto Irrigation District        Public Power        CA   \n",
       "3         New York State Electric & Gas      Investor-Owned        NY   \n",
       "4  Public Service Company of New Mexico      Investor-Owned        NM   \n",
       "\n",
       "                                Final Target Summary Attainment Year  \\\n",
       "0                    100% carbon-free energy by 2050            2050   \n",
       "1                     Net-zero GHG emissions by 2050            2050   \n",
       "2  100% renewable energy and zero-carbon resource...            2045   \n",
       "3                         Zero GHG emissions by 2040            2040   \n",
       "4  100% emissions-free generation by 2040 (Volunt...            2040   \n",
       "\n",
       "                           Interim Target(s) Summary  \n",
       "0  50% reduction in carbon emissions by 2020; 80%...  \n",
       "1                                                 --  \n",
       "2                                                 --  \n",
       "3                                                 --  \n",
       "4                                                N/A  "
      ]
     },
     "execution_count": 8,
     "metadata": {},
     "output_type": "execute_result"
    }
   ],
   "source": [
    "# Make date year only\n",
    "crts['Attainment Year'] = pd.to_datetime(crts[\"Attainment Year\"], errors='coerce').dt.year.apply(str).str.split('.').str[0]\n",
    "crts.head()"
   ]
  },
  {
   "cell_type": "markdown",
   "metadata": {},
   "source": [
    "## Paste data in formatted Excel template"
   ]
  },
  {
   "cell_type": "code",
   "execution_count": 9,
   "metadata": {},
   "outputs": [],
   "source": [
    "#Load existing Excel workbook\n",
    "file = 'Excel_Template.xlsx'\n",
    "wb = openpyxl.load_workbook(filename=file)"
   ]
  },
  {
   "cell_type": "code",
   "execution_count": 10,
   "metadata": {},
   "outputs": [],
   "source": [
    "#Navigate to correct sheet\n",
    "ws = wb['Dataset']"
   ]
  },
  {
   "cell_type": "code",
   "execution_count": 11,
   "metadata": {},
   "outputs": [],
   "source": [
    "# Turn dataframe into special object for excel\n",
    "rows = dataframe_to_rows(crts,index=False)"
   ]
  },
  {
   "cell_type": "code",
   "execution_count": 12,
   "metadata": {},
   "outputs": [],
   "source": [
    "# Loop through rows object and paste data into sheet\n",
    "for r_idx, row in enumerate(rows, 1):\n",
    "    for c_idx, value in enumerate(row, 1):\n",
    "         ws.cell(row=r_idx, column=c_idx, value=value)"
   ]
  },
  {
   "cell_type": "code",
   "execution_count": 13,
   "metadata": {},
   "outputs": [],
   "source": [
    "# Clear formatting on empty cells \n",
    "no_fill = openpyxl.styles.PatternFill(fill_type=None)\n",
    "side = openpyxl.styles.Side(border_style=None)\n",
    "no_border = openpyxl.styles.borders.Border(left=side, right=side, top=side, bottom=side)\n",
    "\n",
    "start_row = len(crts)+2\n",
    "for row in ws.iter_rows(min_row=start_row):\n",
    "    for cell in row:\n",
    "        cell.fill = no_fill\n",
    "        cell.border = no_border"
   ]
  },
  {
   "cell_type": "code",
   "execution_count": 14,
   "metadata": {},
   "outputs": [
    {
     "name": "stdout",
     "output_type": "stream",
     "text": [
      "Last Updated Date/Time: 2021-11-09 15:32:30 ET\n"
     ]
    }
   ],
   "source": [
    "# Add last updated date to workbook too\n",
    "tz = timezone('US/Eastern')\n",
    "update_dt = \"Last Updated Date/Time: \" + datetime.datetime.now(tz).strftime('%Y-%m-%d %H:%M:%S') + \" ET\"\n",
    "print(update_dt)"
   ]
  },
  {
   "cell_type": "code",
   "execution_count": 15,
   "metadata": {},
   "outputs": [
    {
     "data": {
      "text/plain": [
       "<Cell 'Introduction'.H19>"
      ]
     },
     "execution_count": 15,
     "metadata": {},
     "output_type": "execute_result"
    }
   ],
   "source": [
    "ws = wb['Introduction']\n",
    "ws.cell(row=19, column=8, value=update_dt)"
   ]
  },
  {
   "cell_type": "code",
   "execution_count": 16,
   "metadata": {},
   "outputs": [],
   "source": [
    "# Save as\n",
    "wb.save('SEPA Utility Carbon-Reduction Tracker Dataset.xlsx')"
   ]
  },
  {
   "cell_type": "code",
   "execution_count": 17,
   "metadata": {},
   "outputs": [],
   "source": [
    "# Authenticate to AWS\n",
    "s3 = boto3.client('s3', aws_access_key_id=aws_id, aws_secret_access_key=aws_secret)"
   ]
  },
  {
   "cell_type": "code",
   "execution_count": 18,
   "metadata": {},
   "outputs": [],
   "source": [
    "# Push object to S3 Bucket\n",
    "s3.upload_file('SEPA Utility Carbon-Reduction Tracker Dataset.xlsx', 'sepa-utility-crt', \n",
    "               'SEPA Utility Carbon-Reduction Tracker Dataset.xlsx')"
   ]
  },
  {
   "cell_type": "code",
   "execution_count": 19,
   "metadata": {},
   "outputs": [],
   "source": [
    "# Change object permissions\n",
    "s3 = boto3.resource('s3')\n",
    "object_acl = s3.ObjectAcl('sepa-utility-crt','SEPA Utility Carbon-Reduction Tracker Dataset.xlsx')\n",
    "response = object_acl.put(ACL='public-read')"
   ]
  }
 ],
 "metadata": {
  "kernelspec": {
   "display_name": "Python 3",
   "language": "python",
   "name": "python3"
  },
  "language_info": {
   "codemirror_mode": {
    "name": "ipython",
    "version": 3
   },
   "file_extension": ".py",
   "mimetype": "text/x-python",
   "name": "python",
   "nbconvert_exporter": "python",
   "pygments_lexer": "ipython3",
   "version": "3.6.9"
  }
 },
 "nbformat": 4,
 "nbformat_minor": 4
}
